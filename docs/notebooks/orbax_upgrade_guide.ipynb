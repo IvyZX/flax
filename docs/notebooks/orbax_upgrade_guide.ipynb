{
 "cells": [
  {
   "cell_type": "markdown",
   "id": "887a5094",
   "metadata": {},
   "source": [
    "# Migrate Flax Checkpointing to Orbax\n",
    "\n",
    "This guide shows you how to convert a `flax.training.checkpoints.save_checkpoint` or `restore_checkpoint` call to the equivalent in `Orbax` (go/orbax).\n",
    "\n",
    "See also Orbax's quick start [colab introduction](http://colab.research.google.com/github/google/orbax/blob/main/orbax//checkpoint/orbax_checkpoint.ipynb) and [official documentation](https://github.com/google/orbax/blob/main/docs/checkpoint.md)."
   ]
  },
  {
   "cell_type": "markdown",
   "id": "e93b2509",
   "metadata": {},
   "source": [
    "## Setup"
   ]
  },
  {
   "cell_type": "code",
   "execution_count": 1,
   "id": "50bc6f1f",
   "metadata": {
    "tags": [
     "skip-execution"
    ]
   },
   "outputs": [],
   "source": [
    "!pip3 install -qq -U jaxlib jax flax orbax\n",
    "\n",
    "# This is required for Orbax only for notebook scenarios.\n",
    "!pip3 install -qq nest_asyncio"
   ]
  },
  {
   "cell_type": "code",
   "execution_count": 2,
   "id": "537936e7",
   "metadata": {},
   "outputs": [],
   "source": [
    "import os\n",
    "os.environ[\"XLA_FLAGS\"] = '--xla_force_host_platform_device_count=8'\n",
    "\n",
    "import flax\n",
    "from flax.training import checkpoints, orbax_utils\n",
    "import orbax.checkpoint\n",
    "import jax\n",
    "import jax.numpy as jnp\n",
    "import numpy as np\n",
    "from orbax import checkpoint as orbax_checkpoint\n",
    "# Orbax needs to enable asyncio in colab environment.\n",
    "import nest_asyncio\n",
    "nest_asyncio.apply()"
   ]
  },
  {
   "cell_type": "code",
   "execution_count": 3,
   "id": "e2e058eb",
   "metadata": {},
   "outputs": [],
   "source": [
    "# Some dummy variables to showcase\n",
    "MAX_STEPS = 5\n",
    "CKPT_PYTREE = [12, {'foo': 'str', 'bar': np.array((2, 3))}, [1, 4, 10]]\n",
    "TARGET_PYTREE = [0, {'foo': '', 'bar': np.array((0))}, [0, 0, 0]]\n",
    "\n",
    "\n",
    "# Remove any existing checkpoints from the last notebook run.\n",
    "import shutil\n",
    "if os.path.exists('./tmp'):\n",
    "    shutil.rmtree('./tmp')"
   ]
  },
  {
   "cell_type": "markdown",
   "id": "c6099aa3",
   "metadata": {},
   "source": [
    "## Most Common Case: Save/Load + Management"
   ]
  },
  {
   "cell_type": "code",
   "execution_count": 4,
   "id": "0945598a",
   "metadata": {},
   "outputs": [
    {
     "data": {
      "text/plain": [
       "[12, {'foo': 'str', 'bar': array([2, 3])}, [1, 4, 10]]"
      ]
     },
     "execution_count": 4,
     "metadata": {},
     "output_type": "execute_result"
    }
   ],
   "source": [
    "CKPT_DIR = './tmp/'\n",
    "\n",
    "# Before\n",
    "\n",
    "# Inside a training loop\n",
    "for step in range(MAX_STEPS):\n",
    "   # ... do your training ...\n",
    "   checkpoints.save_checkpoint(CKPT_DIR, CKPT_PYTREE, step=step,\n",
    "                               prefix='test_', keep=3, keep_every_n_steps=2)\n",
    "\n",
    "\n",
    "checkpoints.restore_checkpoint(CKPT_DIR, target=TARGET_PYTREE, step=4, prefix='test_')"
   ]
  },
  {
   "cell_type": "code",
   "execution_count": 5,
   "id": "7e450d75",
   "metadata": {},
   "outputs": [
    {
     "data": {
      "text/plain": [
       "[12, {'bar': array([2, 3]), 'foo': 'str'}, [1, 4, 10]]"
      ]
     },
     "execution_count": 5,
     "metadata": {},
     "output_type": "execute_result"
    }
   ],
   "source": [
    "CKPT_DIR = './tmp/'\n",
    "\n",
    "# After\n",
    "\n",
    "# At top level\n",
    "mgr_options = orbax_checkpoint.CheckpointManagerOptions(\n",
    "    max_to_keep=3, keep_period=2, step_prefix='test_')\n",
    "ckpt_mgr = orbax.checkpoint.CheckpointManager(\n",
    "    CKPT_DIR,\n",
    "    orbax.checkpoint.Checkpointer(orbax.checkpoint.PyTreeCheckpointHandler()), mgr_options)\n",
    "\n",
    "# Inside a training loop\n",
    "for step in range(MAX_STEPS):\n",
    "   # ... do your training ...\n",
    "   save_args = orbax_utils.save_args_from_target(CKPT_PYTREE)\n",
    "   ckpt_mgr.save(step, CKPT_PYTREE, save_kwargs={'save_args': save_args})\n",
    "\n",
    "\n",
    "restore_args = orbax_utils.restore_args_from_target(TARGET_PYTREE, mesh=None)\n",
    "ckpt_mgr.restore(4, items=TARGET_PYTREE, restore_kwargs={'restore_args': restore_args})"
   ]
  },
  {
   "cell_type": "markdown",
   "id": "25fec81a",
   "metadata": {},
   "source": [
    "## Lightweight Case: Pure Save/Load without Top-level Variable"
   ]
  },
  {
   "cell_type": "code",
   "execution_count": 6,
   "id": "ae5de4c6",
   "metadata": {},
   "outputs": [
    {
     "data": {
      "text/plain": [
       "[12, {'foo': 'str', 'bar': array([2, 3])}, [1, 4, 10]]"
      ]
     },
     "execution_count": 6,
     "metadata": {},
     "output_type": "execute_result"
    }
   ],
   "source": [
    "PURE_CKPT_DIR = './tmp/pure'\n",
    "\n",
    "# Before\n",
    "checkpoints.save_checkpoint(PURE_CKPT_DIR, CKPT_PYTREE, step=0, overwrite=True)\n",
    "checkpoints.restore_checkpoint(PURE_CKPT_DIR, target=TARGET_PYTREE)"
   ]
  },
  {
   "cell_type": "code",
   "execution_count": 7,
   "id": "98ef5a48",
   "metadata": {},
   "outputs": [
    {
     "data": {
      "text/plain": [
       "[12, {'bar': array([2, 3]), 'foo': 'str'}, [1, 4, 10]]"
      ]
     },
     "execution_count": 7,
     "metadata": {},
     "output_type": "execute_result"
    }
   ],
   "source": [
    "PURE_CKPT_DIR_ORBAX = './tmp/pure/orbax'\n",
    "\n",
    "# After\n",
    "ckptr = orbax_checkpoint.Checkpointer(orbax_checkpoint.PyTreeCheckpointHandler())  # stateless object, can be created on-fly\n",
    "ckptr.save(PURE_CKPT_DIR_ORBAX, CKPT_PYTREE,\n",
    "           save_args=orbax_utils.save_args_from_target(CKPT_PYTREE), force=True)\n",
    "ckptr.restore(PURE_CKPT_DIR_ORBAX, item=TARGET_PYTREE,\n",
    "              restore_args=orbax_utils.restore_args_from_target(TARGET_PYTREE, mesh=None))"
   ]
  },
  {
   "cell_type": "markdown",
   "id": "6ea249fb",
   "metadata": {},
   "source": [
    "## Restore without a target pytree"
   ]
  },
  {
   "cell_type": "code",
   "execution_count": 8,
   "id": "cce574df",
   "metadata": {},
   "outputs": [
    {
     "data": {
      "text/plain": [
       "{'0': 12,\n",
       " '1': {'foo': 'str', 'bar': array([2, 3])},\n",
       " '2': {'0': 1, '1': 4, '2': 10}}"
      ]
     },
     "execution_count": 8,
     "metadata": {},
     "output_type": "execute_result"
    }
   ],
   "source": [
    "NOTARGET_CKPT_DIR = './tmp/no_target'\n",
    "\n",
    "# Before\n",
    "checkpoints.save_checkpoint(NOTARGET_CKPT_DIR, CKPT_PYTREE, step=0)\n",
    "checkpoints.restore_checkpoint(NOTARGET_CKPT_DIR, target=None)"
   ]
  },
  {
   "cell_type": "code",
   "execution_count": 9,
   "id": "632e18db",
   "metadata": {},
   "outputs": [
    {
     "data": {
      "text/plain": [
       "{'0': 12,\n",
       " '1': {'bar': array([2, 3]), 'foo': 'str'},\n",
       " '2': {'0': 1, '1': 4, '2': 10}}"
      ]
     },
     "execution_count": 9,
     "metadata": {},
     "output_type": "execute_result"
    }
   ],
   "source": [
    "NOTARGET_CKPT_DIR = './tmp/no_target/orbax'\n",
    "\n",
    "# After\n",
    "ckptr = orbax_checkpoint.Checkpointer(orbax_checkpoint.PyTreeCheckpointHandler())\n",
    "ckptr.save(NOTARGET_CKPT_DIR, CKPT_PYTREE,\n",
    "           save_args=orbax_utils.save_args_from_target(CKPT_PYTREE))\n",
    "ckptr.restore(NOTARGET_CKPT_DIR, item=None)"
   ]
  },
  {
   "cell_type": "markdown",
   "id": "475a6021",
   "metadata": {},
   "source": [
    "## Save/Load a single JAX or Numpy Array"
   ]
  },
  {
   "cell_type": "code",
   "execution_count": 10,
   "id": "d3ae4d8d",
   "metadata": {},
   "outputs": [
    {
     "data": {
      "text/plain": [
       "array([0, 1, 2, 3, 4, 5, 6, 7, 8, 9], dtype=int32)"
      ]
     },
     "execution_count": 10,
     "metadata": {},
     "output_type": "execute_result"
    }
   ],
   "source": [
    "ARR_CKPT_DIR = './tmp/singleton'\n",
    "\n",
    "# Before\n",
    "checkpoints.save_checkpoint(ARR_CKPT_DIR, jnp.arange(10), step=0)\n",
    "checkpoints.restore_checkpoint(ARR_CKPT_DIR, target=None)"
   ]
  },
  {
   "cell_type": "code",
   "execution_count": 11,
   "id": "e0cc1a0d",
   "metadata": {},
   "outputs": [
    {
     "data": {
      "text/plain": [
       "array([0, 1, 2, 3, 4, 5, 6, 7, 8, 9], dtype=int32)"
      ]
     },
     "execution_count": 11,
     "metadata": {},
     "output_type": "execute_result"
    }
   ],
   "source": [
    "ARR_CKPT_DIR = './tmp/singleton/orbax'\n",
    "\n",
    "# After\n",
    "ckptr = orbax.checkpoint.Checkpointer(orbax.checkpoint.ArrayCheckpointHandler())  # stateless object, can be created on-fly\n",
    "ckptr.save(ARR_CKPT_DIR, jnp.arange(10))\n",
    "ckptr.restore(ARR_CKPT_DIR, item=None)"
   ]
  }
 ],
 "metadata": {
  "jupytext": {
   "formats": "ipynb,md"
  },
  "kernelspec": {
   "display_name": "Python 3 (ipykernel)",
   "language": "python",
   "name": "python3"
  },
  "language_info": {
   "codemirror_mode": {
    "name": "ipython",
    "version": 3
   },
   "file_extension": ".py",
   "mimetype": "text/x-python",
   "name": "python",
   "nbconvert_exporter": "python",
   "pygments_lexer": "ipython3",
   "version": "3.9.15"
  }
 },
 "nbformat": 4,
 "nbformat_minor": 5
}
